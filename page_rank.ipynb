{
 "cells": [
  {
   "cell_type": "code",
   "execution_count": 43,
   "metadata": {},
   "outputs": [],
   "source": [
    "import numpy as np\n",
    "import math\n",
    "from scipy.sparse import lil_matrix, csr_matrix"
   ]
  },
  {
   "cell_type": "code",
   "execution_count": 44,
   "metadata": {},
   "outputs": [],
   "source": [
    "DAMPING_FACTOR = 0.85  # Damping factor, typically set to 0.85\n",
    "EPSILON = 0.00000001  # Convergence threshold\n",
    "MAX_ITERATIONS = 100  # Limit on the number of iterations for convergence"
   ]
  },
  {
   "cell_type": "code",
   "execution_count": 45,
   "metadata": {},
   "outputs": [],
   "source": [
    "# Function to calculate the absolute difference between two numbers\n",
    "def abs_diff(a, b):\n",
    "    return abs(a - b)"
   ]
  },
  {
   "cell_type": "code",
   "execution_count": 46,
   "metadata": {},
   "outputs": [],
   "source": [
    "def initialize_auth(initialval, num_vertices):\n",
    "    if initialval == 0:\n",
    "        return np.zeros(num_vertices, dtype=np.float32)\n",
    "    elif initialval == 1:\n",
    "        return np.ones(num_vertices, dtype=np.float32)\n",
    "    elif initialval == -1:\n",
    "        return np.full(num_vertices, 1.0 / num_vertices, dtype=np.float32)\n",
    "    elif initialval == -2:\n",
    "        return np.full(num_vertices, 1.0 / math.sqrt(num_vertices), dtype=np.float32)"
   ]
  },
  {
   "cell_type": "code",
   "execution_count": 47,
   "metadata": {},
   "outputs": [],
   "source": [
    "# Function to load graph from file as a sparse matrix\n",
    "def load_graph(filename, initialval):\n",
    "    with open(filename, \"r\") as file:\n",
    "        next(file)  # Skip first line (header)\n",
    "        edges = [tuple(map(int, line.strip().split())) for line in file]\n",
    "    \n",
    "    max_index = max(max(u, v) for u, v in edges)\n",
    "    num_vertices = max_index + 1\n",
    "    adj_matrix = csr_matrix((np.ones(len(edges)), zip(*edges)), shape=(num_vertices, num_vertices), dtype=np.float32)\n",
    "\n",
    "    # Initialize rank vector based on initialval\n",
    "    rank = initialize_auth(initialval, num_vertices)\n",
    "    return adj_matrix, rank"
   ]
  },
  {
   "cell_type": "code",
   "execution_count": 48,
   "metadata": {},
   "outputs": [],
   "source": [
    "# PageRank calculation using matrix-vector multiplication and handling dangling nodes\n",
    "def page_rank(filename, initialval):\n",
    "    adj_matrix, rank = load_graph(filename, initialval)\n",
    "    num_vertices = len(rank)\n",
    "    teleport = (1 - DAMPING_FACTOR) / num_vertices  # Constant teleportation factor\n",
    "    \n",
    "    out_degree = adj_matrix.sum(axis=0).A1  # Out-degree of each node (sum of columns)\n",
    "    dangling_nodes = (out_degree == 0)  # Identify dangling nodes\n",
    "\n",
    "    for iteration in range(MAX_ITERATIONS):\n",
    "        # Handle dangling nodes by adding their rank evenly to all nodes\n",
    "        dangling_rank = DAMPING_FACTOR * rank[dangling_nodes].sum() / num_vertices\n",
    "        \n",
    "        # Calculate new rank values using the PageRank formula\n",
    "        new_rank = teleport + dangling_rank + DAMPING_FACTOR * adj_matrix.dot(rank / np.where(out_degree == 0, 1, out_degree))\n",
    "\n",
    "        # Check for convergence\n",
    "        if np.linalg.norm(new_rank - rank, ord=1) < EPSILON:\n",
    "            print(f\"Converged after {iteration + 1} iterations\")\n",
    "            break\n",
    "\n",
    "        rank = new_rank\n",
    "\n",
    "    # Display the final PageRank scores\n",
    "    print(\"PageRank scores (showing first 10 nodes):\")\n",
    "    for i, score in enumerate(rank[:10]):  # Display only the first 10 nodes for brevity\n",
    "        print(f\"Page {i + 1}: {score:.6f}\")"
   ]
  },
  {
   "cell_type": "code",
   "execution_count": 49,
   "metadata": {},
   "outputs": [
    {
     "name": "stdout",
     "output_type": "stream",
     "text": [
      "Converged after 85 iterations\n",
      "PageRank scores (showing first 10 nodes):\n",
      "Page 1: 0.000000\n",
      "Page 2: 0.000000\n",
      "Page 3: 0.000001\n",
      "Page 4: 0.000000\n",
      "Page 5: 0.000002\n",
      "Page 6: 0.000004\n",
      "Page 7: 0.000001\n",
      "Page 8: 0.000004\n",
      "Page 9: 0.000013\n",
      "Page 10: 0.000001\n"
     ]
    }
   ],
   "source": [
    "# Calculate and display the PageRank scores\n",
    "filename = \"web-Google.txt\"  # Replace with your file path\n",
    "initialval = -1  # Choose initialization value as needed\n",
    "page_rank(filename, initialval)"
   ]
  }
 ],
 "metadata": {
  "kernelspec": {
   "display_name": "Python 3",
   "language": "python",
   "name": "python3"
  },
  "language_info": {
   "codemirror_mode": {
    "name": "ipython",
    "version": 3
   },
   "file_extension": ".py",
   "mimetype": "text/x-python",
   "name": "python",
   "nbconvert_exporter": "python",
   "pygments_lexer": "ipython3",
   "version": "3.10.15"
  }
 },
 "nbformat": 4,
 "nbformat_minor": 2
}
