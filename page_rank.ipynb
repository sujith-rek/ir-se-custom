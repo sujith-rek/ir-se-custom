{
 "cells": [
  {
   "cell_type": "code",
   "execution_count": null,
   "metadata": {},
   "outputs": [],
   "source": [
    "import numpy as np\n",
    "import math\n",
    "from scipy.sparse import lil_matrix, csr_matrix"
   ]
  },
  {
   "cell_type": "code",
   "execution_count": null,
   "metadata": {},
   "outputs": [],
   "source": [
    "# Constants\n",
    "DAMPING_FACTOR = 0.85  # Damping factor (usually set to 0.85)\n",
    "EPSILON = 0.001  # Adjusted convergence threshold for faster convergence\n",
    "MAX_ITERATIONS = 100  # Limit the number of iterations to avoid infinite loops"
   ]
  },
  {
   "cell_type": "code",
   "execution_count": null,
   "metadata": {},
   "outputs": [],
   "source": [
    "# Function to calculate the absolute difference between two numbers\n",
    "def abs_diff(a, b):\n",
    "    return abs(a - b)"
   ]
  },
  {
   "cell_type": "code",
   "execution_count": null,
   "metadata": {},
   "outputs": [],
   "source": [
    "def initialize_auth(initialval, num_vertices):\n",
    "    if initialval == 0:\n",
    "        return 0.0\n",
    "    elif initialval == 1:\n",
    "        return 1.0\n",
    "    elif initialval == -1:\n",
    "        return 1.0 / num_vertices\n",
    "    elif initialval == -2:\n",
    "        return 1.0 / math.sqrt(num_vertices)"
   ]
  },
  {
   "cell_type": "code",
   "execution_count": null,
   "metadata": {},
   "outputs": [],
   "source": [
    "def load_graph(filename, initialval):\n",
    "    max_index = 0\n",
    "    edges = []\n",
    "    \n",
    "    # Find the maximum vertex index and store edges\n",
    "    with open(filename, \"r\") as file:\n",
    "        next(file)  # Skip first line\n",
    "        for line in file:\n",
    "            u, v = map(int, line.strip().split())\n",
    "            edges.append((u, v))\n",
    "            max_index = max(max_index, u, v)\n",
    "    \n",
    "    num_vertices = max_index + 1\n",
    "    adj_matrix = lil_matrix((num_vertices, num_vertices))  # Sparse matrix format\n",
    "    \n",
    "    for u, v in edges:\n",
    "        adj_matrix[u, v] = 1  # Only store non-zero edges\n",
    "    \n",
    "    rank = np.array([initialize_auth(initialval, num_vertices) for _ in range(num_vertices)])\n",
    "    \n",
    "    return adj_matrix.tocsr(), rank  # Convert to CSR format for efficient row slicing"
   ]
  },
  {
   "cell_type": "code",
   "execution_count": null,
   "metadata": {},
   "outputs": [],
   "source": [
    "def page_rank(filename, initialval):\n",
    "    adj_matrix, rank = load_graph(filename, initialval)\n",
    "    num_vertices = len(rank)\n",
    "    new_rank = np.zeros(num_vertices)\n",
    "    \n",
    "    for iteration in range(MAX_ITERATIONS):\n",
    "        max_diff = 0.0\n",
    "        \n",
    "        # Calculate new ranks using the PageRank formula\n",
    "        for i in range(num_vertices):\n",
    "            new_rank[i] = 0.0\n",
    "            for j in adj_matrix[:, i].nonzero()[0]:  # Only non-zero entries\n",
    "                new_rank[i] += rank[j] / (adj_matrix[j].count_nonzero() or 1)  # Handle dangling nodes\n",
    "            new_rank[i] = (1 - DAMPING_FACTOR) / num_vertices + DAMPING_FACTOR * new_rank[i]\n",
    "            \n",
    "            # Calculate the absolute difference between old and new ranks for convergence check\n",
    "            diff = abs_diff(rank[i], new_rank[i])\n",
    "            if diff > max_diff:\n",
    "                max_diff = diff\n",
    "        \n",
    "        rank = new_rank.copy()\n",
    "        \n",
    "        # Check for convergence using the maximum difference\n",
    "        if max_diff < EPSILON:\n",
    "            print(f\"Converged after {iteration + 1} iterations\")\n",
    "            break\n",
    "    else:\n",
    "        print(\"Reached maximum iterations without full convergence\")\n",
    "    \n",
    "    # Display the final PageRank scores\n",
    "    print(\"PageRank scores:\")\n",
    "    for i in range(num_vertices):\n",
    "        print(f\"Page {i+1}: {rank[i]:.6f}\")"
   ]
  },
  {
   "cell_type": "code",
   "execution_count": null,
   "metadata": {},
   "outputs": [],
   "source": [
    "# Calculate and display the PageRank scores\n",
    "filename = \"web-Google.txt\"  # Replace with your file path\n",
    "initialval = -1  # Choose initialization value as needed\n",
    "page_rank(filename, initialval)"
   ]
  }
 ],
 "metadata": {
  "kernelspec": {
   "display_name": "Python 3",
   "language": "python",
   "name": "python3"
  },
  "language_info": {
   "name": "python",
   "version": "3.10.15"
  }
 },
 "nbformat": 4,
 "nbformat_minor": 2
}
